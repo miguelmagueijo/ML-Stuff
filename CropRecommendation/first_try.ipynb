{
 "cells": [
  {
   "cell_type": "code",
   "execution_count": 210,
   "metadata": {},
   "outputs": [
    {
     "name": "stdout",
     "output_type": "stream",
     "text": [
      "Dataset exists.\n"
     ]
    }
   ],
   "source": [
    "import os\n",
    "\n",
    "dataset_filename = \"../Data/Crop_recommendation.csv\"\n",
    "\n",
    "if not os.path.exists(dataset_filename):\n",
    "    print(\"Dataset does not exist\")\n",
    "else:\n",
    "    print(\"Dataset exists.\")"
   ]
  },
  {
   "cell_type": "code",
   "execution_count": 211,
   "metadata": {},
   "outputs": [
    {
     "name": "stdout",
     "output_type": "stream",
     "text": [
      "        N   P   K  temperature   humidity        ph    rainfall   label\n",
      "0      90  42  43    20.879744  82.002744  6.502985  202.935536    rice\n",
      "1      85  58  41    21.770462  80.319644  7.038096  226.655537    rice\n",
      "2      60  55  44    23.004459  82.320763  7.840207  263.964248    rice\n",
      "3      74  35  40    26.491096  80.158363  6.980401  242.864034    rice\n",
      "4      78  42  42    20.130175  81.604873  7.628473  262.717340    rice\n",
      "...   ...  ..  ..          ...        ...       ...         ...     ...\n",
      "2195  107  34  32    26.774637  66.413269  6.780064  177.774507  coffee\n",
      "2196   99  15  27    27.417112  56.636362  6.086922  127.924610  coffee\n",
      "2197  118  33  30    24.131797  67.225123  6.362608  173.322839  coffee\n",
      "2198  117  32  34    26.272418  52.127394  6.758793  127.175293  coffee\n",
      "2199  104  18  30    23.603016  60.396475  6.779833  140.937041  coffee\n",
      "\n",
      "[2200 rows x 8 columns]\n"
     ]
    }
   ],
   "source": [
    "import pandas as pd\n",
    "\n",
    "\n",
    "csv_file = pd.read_csv(dataset_filename)\n",
    "\n",
    "print(csv_file)"
   ]
  },
  {
   "cell_type": "code",
   "execution_count": 212,
   "metadata": {},
   "outputs": [
    {
     "name": "stdout",
     "output_type": "stream",
     "text": [
      "Columns: ['N', 'P', 'K', 'temperature', 'humidity', 'ph', 'rainfall'] | Class: label\n"
     ]
    }
   ],
   "source": [
    "from sklearn import model_selection\n",
    "\n",
    "cols = list(csv_file.columns[:-1])\n",
    "target_class = csv_file.columns[-1]\n",
    "\n",
    "print(f\"Columns: {cols} | Class: {target_class}\")\n",
    "\n",
    "X_train, X_test, Y_train, Y_test = model_selection.train_test_split(csv_file[cols], csv_file[target_class])"
   ]
  },
  {
   "cell_type": "code",
   "execution_count": 213,
   "metadata": {},
   "outputs": [],
   "source": [
    "from sklearn import tree\n",
    "\n",
    "dtc = tree.DecisionTreeClassifier()\n",
    "\n",
    "dtc.fit(X_train, Y_train)\n",
    "\n",
    "predicted_classes = dtc.predict(X_test)"
   ]
  },
  {
   "cell_type": "code",
   "execution_count": 214,
   "metadata": {},
   "outputs": [
    {
     "name": "stdout",
     "output_type": "stream",
     "text": [
      "Decision tree accuracy: 98.91%\n"
     ]
    }
   ],
   "source": [
    "from sklearn import metrics\n",
    "\n",
    "dtc_accuracy = metrics.accuracy_score(Y_test, predicted_classes)\n",
    "\n",
    "print(f\"Decision tree accuracy: {round(dtc_accuracy * 100, 2)}%\")"
   ]
  },
  {
   "cell_type": "code",
   "execution_count": 215,
   "metadata": {},
   "outputs": [
    {
     "name": "stdout",
     "output_type": "stream",
     "text": [
      "['coffee']\n"
     ]
    }
   ],
   "source": [
    "predict_me = pd.DataFrame({'N': [100], 'P': [25], 'K': [26], 'temperature': [25.5], 'humidity': [53.2], 'ph': [8.4], 'rainfall': [150.23]}, columns=cols)\n",
    "\n",
    "print(dtc.predict(predict_me))\n",
    "\n",
    "# {'N': 100, 'P': 25, 'K': 26, 'temperature': 25.5, 'humidity': 53.2, 'ph': 8.4, 'rainfall': 150.23}\n",
    "\n",
    "#print(f\"Random prediction: {dcc.predict()}\")"
   ]
  }
 ],
 "metadata": {
  "kernelspec": {
   "display_name": "venv",
   "language": "python",
   "name": "python3"
  },
  "language_info": {
   "codemirror_mode": {
    "name": "ipython",
    "version": 3
   },
   "file_extension": ".py",
   "mimetype": "text/x-python",
   "name": "python",
   "nbconvert_exporter": "python",
   "pygments_lexer": "ipython3",
   "version": "3.11.0"
  }
 },
 "nbformat": 4,
 "nbformat_minor": 2
}
